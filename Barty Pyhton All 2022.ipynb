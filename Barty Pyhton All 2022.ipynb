{
 "cells": [
  {
   "cell_type": "code",
   "execution_count": 1,
   "id": "0160b79a",
   "metadata": {},
   "outputs": [
    {
     "name": "stdout",
     "output_type": "stream",
     "text": [
      "The Zen of Python, by Tim Peters\n",
      "\n",
      "Beautiful is better than ugly.\n",
      "Explicit is better than implicit.\n",
      "Simple is better than complex.\n",
      "Complex is better than complicated.\n",
      "Flat is better than nested.\n",
      "Sparse is better than dense.\n",
      "Readability counts.\n",
      "Special cases aren't special enough to break the rules.\n",
      "Although practicality beats purity.\n",
      "Errors should never pass silently.\n",
      "Unless explicitly silenced.\n",
      "In the face of ambiguity, refuse the temptation to guess.\n",
      "There should be one-- and preferably only one --obvious way to do it.\n",
      "Although that way may not be obvious at first unless you're Dutch.\n",
      "Now is better than never.\n",
      "Although never is often better than *right* now.\n",
      "If the implementation is hard to explain, it's a bad idea.\n",
      "If the implementation is easy to explain, it may be a good idea.\n",
      "Namespaces are one honking great idea -- let's do more of those!\n"
     ]
    }
   ],
   "source": [
    "import this"
   ]
  },
  {
   "cell_type": "code",
   "execution_count": 2,
   "id": "ee597ec4",
   "metadata": {},
   "outputs": [],
   "source": [
    "#Day 1"
   ]
  },
  {
   "cell_type": "code",
   "execution_count": 3,
   "id": "677b64fd",
   "metadata": {},
   "outputs": [
    {
     "data": {
      "text/plain": [
       "'\\n\\n1.this is my first program \\n\\n2.this is my second program\\n\\n\\n'"
      ]
     },
     "execution_count": 3,
     "metadata": {},
     "output_type": "execute_result"
    }
   ],
   "source": [
    "#multilinecomments\n",
    "\n",
    "\n",
    "\"\"\"\n",
    "\n",
    "1.this is my first program \n",
    "\n",
    "2.this is my second program\n",
    "\n",
    "\n",
    "\"\"\""
   ]
  },
  {
   "cell_type": "code",
   "execution_count": 4,
   "id": "43a46c87",
   "metadata": {},
   "outputs": [
    {
     "name": "stdout",
     "output_type": "stream",
     "text": [
      "this is my first program\n"
     ]
    }
   ],
   "source": [
    "#print the given statement\n",
    "\n",
    "print(\"this is my first program\")"
   ]
  },
  {
   "cell_type": "markdown",
   "id": "68bf2c0f",
   "metadata": {},
   "source": [
    "# Aritmetic Operators"
   ]
  },
  {
   "cell_type": "code",
   "execution_count": 5,
   "id": "de6c815f",
   "metadata": {},
   "outputs": [
    {
     "data": {
      "text/plain": [
       "3"
      ]
     },
     "execution_count": 5,
     "metadata": {},
     "output_type": "execute_result"
    }
   ],
   "source": [
    "#addition\n",
    "1 + 2"
   ]
  },
  {
   "cell_type": "code",
   "execution_count": 6,
   "id": "a2d4ba7c",
   "metadata": {},
   "outputs": [
    {
     "data": {
      "text/plain": [
       "0.42857142857142855"
      ]
     },
     "execution_count": 6,
     "metadata": {},
     "output_type": "execute_result"
    }
   ],
   "source": [
    "#division\n",
    "3 / 7"
   ]
  },
  {
   "cell_type": "code",
   "execution_count": 7,
   "id": "d7d0d154",
   "metadata": {},
   "outputs": [
    {
     "data": {
      "text/plain": [
       "15"
      ]
     },
     "execution_count": 7,
     "metadata": {},
     "output_type": "execute_result"
    }
   ],
   "source": [
    "#multiplication\n",
    "3 * 5"
   ]
  },
  {
   "cell_type": "code",
   "execution_count": 8,
   "id": "7e3b86e1",
   "metadata": {},
   "outputs": [
    {
     "data": {
      "text/plain": [
       "2"
      ]
     },
     "execution_count": 8,
     "metadata": {},
     "output_type": "execute_result"
    }
   ],
   "source": [
    "#substraction\n",
    "\n",
    "5 - 3"
   ]
  },
  {
   "cell_type": "markdown",
   "id": "2f5d95c5",
   "metadata": {},
   "source": [
    "# Variables"
   ]
  },
  {
   "cell_type": "code",
   "execution_count": 9,
   "id": "86ec4511",
   "metadata": {},
   "outputs": [],
   "source": [
    "a = 10 #integer"
   ]
  },
  {
   "cell_type": "code",
   "execution_count": 10,
   "id": "daa12a20",
   "metadata": {},
   "outputs": [],
   "source": [
    "b = \"aaditya\"#string"
   ]
  },
  {
   "cell_type": "code",
   "execution_count": 11,
   "id": "793179f5",
   "metadata": {},
   "outputs": [],
   "source": [
    "c = True #boolean"
   ]
  },
  {
   "cell_type": "code",
   "execution_count": 12,
   "id": "41f6f11f",
   "metadata": {},
   "outputs": [],
   "source": [
    "d = 3 + 2j #complex"
   ]
  },
  {
   "cell_type": "code",
   "execution_count": 13,
   "id": "34286f10",
   "metadata": {},
   "outputs": [],
   "source": [
    "e = 24.54 #float"
   ]
  },
  {
   "cell_type": "code",
   "execution_count": 14,
   "id": "9049f30b",
   "metadata": {},
   "outputs": [
    {
     "name": "stdout",
     "output_type": "stream",
     "text": [
      "10 aaditya True (3+2j) 24.54\n"
     ]
    }
   ],
   "source": [
    "print(a,b,c,d,e)"
   ]
  },
  {
   "cell_type": "code",
   "execution_count": 15,
   "id": "1ecb2eb6",
   "metadata": {},
   "outputs": [
    {
     "data": {
      "text/plain": [
       "(10, 'aaditya', True, (3+2j), 24.54)"
      ]
     },
     "execution_count": 15,
     "metadata": {},
     "output_type": "execute_result"
    }
   ],
   "source": [
    "a,b,c,d,e"
   ]
  },
  {
   "cell_type": "code",
   "execution_count": 16,
   "id": "40023e8d",
   "metadata": {},
   "outputs": [
    {
     "data": {
      "text/plain": [
       "int"
      ]
     },
     "execution_count": 16,
     "metadata": {},
     "output_type": "execute_result"
    }
   ],
   "source": [
    "#you can check type of the variable by using type function\n",
    "\n",
    "type(a)"
   ]
  },
  {
   "cell_type": "code",
   "execution_count": 17,
   "id": "e236be2e",
   "metadata": {},
   "outputs": [
    {
     "data": {
      "text/plain": [
       "str"
      ]
     },
     "execution_count": 17,
     "metadata": {},
     "output_type": "execute_result"
    }
   ],
   "source": [
    "type(b)"
   ]
  },
  {
   "cell_type": "code",
   "execution_count": 18,
   "id": "63e4350b",
   "metadata": {},
   "outputs": [
    {
     "data": {
      "text/plain": [
       "bool"
      ]
     },
     "execution_count": 18,
     "metadata": {},
     "output_type": "execute_result"
    }
   ],
   "source": [
    "type(c)"
   ]
  },
  {
   "cell_type": "code",
   "execution_count": 19,
   "id": "56700178",
   "metadata": {},
   "outputs": [
    {
     "data": {
      "text/plain": [
       "complex"
      ]
     },
     "execution_count": 19,
     "metadata": {},
     "output_type": "execute_result"
    }
   ],
   "source": [
    "type(d)"
   ]
  },
  {
   "cell_type": "code",
   "execution_count": 20,
   "id": "adde86d3",
   "metadata": {},
   "outputs": [
    {
     "data": {
      "text/plain": [
       "float"
      ]
     },
     "execution_count": 20,
     "metadata": {},
     "output_type": "execute_result"
    }
   ],
   "source": [
    "type(e)"
   ]
  },
  {
   "cell_type": "markdown",
   "id": "007140b2",
   "metadata": {},
   "source": [
    "# Typecasting"
   ]
  },
  {
   "cell_type": "code",
   "execution_count": 21,
   "id": "ecd2f3a8",
   "metadata": {},
   "outputs": [],
   "source": [
    "a = 24.5 "
   ]
  },
  {
   "cell_type": "code",
   "execution_count": 22,
   "id": "65462fc6",
   "metadata": {},
   "outputs": [
    {
     "data": {
      "text/plain": [
       "24.5"
      ]
     },
     "execution_count": 22,
     "metadata": {},
     "output_type": "execute_result"
    }
   ],
   "source": [
    "a"
   ]
  },
  {
   "cell_type": "code",
   "execution_count": 23,
   "id": "cfe8b475",
   "metadata": {},
   "outputs": [
    {
     "data": {
      "text/plain": [
       "24"
      ]
     },
     "execution_count": 23,
     "metadata": {},
     "output_type": "execute_result"
    }
   ],
   "source": [
    "int(a) #convert float to integer"
   ]
  },
  {
   "cell_type": "code",
   "execution_count": 24,
   "id": "bb5296bd",
   "metadata": {},
   "outputs": [],
   "source": [
    "c = 14"
   ]
  },
  {
   "cell_type": "code",
   "execution_count": 25,
   "id": "49cd234f",
   "metadata": {},
   "outputs": [
    {
     "data": {
      "text/plain": [
       "14"
      ]
     },
     "execution_count": 25,
     "metadata": {},
     "output_type": "execute_result"
    }
   ],
   "source": [
    "c"
   ]
  },
  {
   "cell_type": "code",
   "execution_count": 26,
   "id": "29d07a98",
   "metadata": {},
   "outputs": [
    {
     "data": {
      "text/plain": [
       "14.0"
      ]
     },
     "execution_count": 26,
     "metadata": {},
     "output_type": "execute_result"
    }
   ],
   "source": [
    "float(14)"
   ]
  },
  {
   "cell_type": "markdown",
   "id": "7bf90d6c",
   "metadata": {},
   "source": [
    "# Day 2"
   ]
  },
  {
   "cell_type": "code",
   "execution_count": 27,
   "id": "dab0ce0e",
   "metadata": {},
   "outputs": [],
   "source": [
    "a = 10"
   ]
  },
  {
   "cell_type": "code",
   "execution_count": 28,
   "id": "2bcbcee6",
   "metadata": {},
   "outputs": [
    {
     "data": {
      "text/plain": [
       "10"
      ]
     },
     "execution_count": 28,
     "metadata": {},
     "output_type": "execute_result"
    }
   ],
   "source": [
    "a"
   ]
  },
  {
   "cell_type": "code",
   "execution_count": 29,
   "id": "1a9cffe1",
   "metadata": {},
   "outputs": [
    {
     "data": {
      "text/plain": [
       "int"
      ]
     },
     "execution_count": 29,
     "metadata": {},
     "output_type": "execute_result"
    }
   ],
   "source": [
    "type(a) #type is integer"
   ]
  },
  {
   "cell_type": "code",
   "execution_count": 30,
   "id": "0f84608f",
   "metadata": {},
   "outputs": [],
   "source": [
    "b = 20.5"
   ]
  },
  {
   "cell_type": "code",
   "execution_count": 31,
   "id": "58ee278c",
   "metadata": {},
   "outputs": [
    {
     "data": {
      "text/plain": [
       "20.5"
      ]
     },
     "execution_count": 31,
     "metadata": {},
     "output_type": "execute_result"
    }
   ],
   "source": [
    "b"
   ]
  },
  {
   "cell_type": "code",
   "execution_count": 32,
   "id": "9ecc26cb",
   "metadata": {},
   "outputs": [
    {
     "data": {
      "text/plain": [
       "float"
      ]
     },
     "execution_count": 32,
     "metadata": {},
     "output_type": "execute_result"
    }
   ],
   "source": [
    "type(b) #type is float"
   ]
  },
  {
   "cell_type": "code",
   "execution_count": 33,
   "id": "1c360825",
   "metadata": {},
   "outputs": [],
   "source": [
    "c = 5 + 2j"
   ]
  },
  {
   "cell_type": "code",
   "execution_count": 34,
   "id": "b1b20033",
   "metadata": {},
   "outputs": [
    {
     "data": {
      "text/plain": [
       "(5+2j)"
      ]
     },
     "execution_count": 34,
     "metadata": {},
     "output_type": "execute_result"
    }
   ],
   "source": [
    "c"
   ]
  },
  {
   "cell_type": "code",
   "execution_count": 35,
   "id": "3412035a",
   "metadata": {},
   "outputs": [
    {
     "data": {
      "text/plain": [
       "complex"
      ]
     },
     "execution_count": 35,
     "metadata": {},
     "output_type": "execute_result"
    }
   ],
   "source": [
    "type(c) #type is complex"
   ]
  },
  {
   "cell_type": "code",
   "execution_count": 36,
   "id": "5644730e",
   "metadata": {},
   "outputs": [],
   "source": [
    "d = \"aaditya\""
   ]
  },
  {
   "cell_type": "code",
   "execution_count": 37,
   "id": "a9d551ad",
   "metadata": {},
   "outputs": [
    {
     "data": {
      "text/plain": [
       "'aaditya'"
      ]
     },
     "execution_count": 37,
     "metadata": {},
     "output_type": "execute_result"
    }
   ],
   "source": [
    "d"
   ]
  },
  {
   "cell_type": "code",
   "execution_count": 38,
   "id": "49818612",
   "metadata": {},
   "outputs": [
    {
     "data": {
      "text/plain": [
       "str"
      ]
     },
     "execution_count": 38,
     "metadata": {},
     "output_type": "execute_result"
    }
   ],
   "source": [
    "type(d)"
   ]
  },
  {
   "cell_type": "code",
   "execution_count": 39,
   "id": "69f05514",
   "metadata": {},
   "outputs": [
    {
     "data": {
      "text/plain": [
       "10.0"
      ]
     },
     "execution_count": 39,
     "metadata": {},
     "output_type": "execute_result"
    }
   ],
   "source": [
    "float(a)"
   ]
  },
  {
   "cell_type": "code",
   "execution_count": 40,
   "id": "65366b0f",
   "metadata": {},
   "outputs": [],
   "source": [
    "p = True"
   ]
  },
  {
   "cell_type": "code",
   "execution_count": 41,
   "id": "8dfcb1df",
   "metadata": {},
   "outputs": [
    {
     "data": {
      "text/plain": [
       "bool"
      ]
     },
     "execution_count": 41,
     "metadata": {},
     "output_type": "execute_result"
    }
   ],
   "source": [
    "type(p)"
   ]
  },
  {
   "cell_type": "code",
   "execution_count": 42,
   "id": "f135e9a1",
   "metadata": {},
   "outputs": [],
   "source": [
    "q = False"
   ]
  },
  {
   "cell_type": "code",
   "execution_count": 43,
   "id": "ad25cbb5",
   "metadata": {},
   "outputs": [
    {
     "data": {
      "text/plain": [
       "bool"
      ]
     },
     "execution_count": 43,
     "metadata": {},
     "output_type": "execute_result"
    }
   ],
   "source": [
    "type(q)"
   ]
  },
  {
   "cell_type": "markdown",
   "id": "f9602c6e",
   "metadata": {},
   "source": [
    "# function(def)"
   ]
  },
  {
   "cell_type": "code",
   "execution_count": 49,
   "id": "5d8b8a9f",
   "metadata": {},
   "outputs": [
    {
     "name": "stdout",
     "output_type": "stream",
     "text": [
      "my names is aaditya\n"
     ]
    }
   ],
   "source": [
    "X = \"aaditya\"  #global variable #outside the function\n",
    "def my_function():\n",
    "    print(\"my names is\", X)\n",
    "my_function()"
   ]
  },
  {
   "cell_type": "code",
   "execution_count": 50,
   "id": "c3f6d333",
   "metadata": {},
   "outputs": [
    {
     "name": "stdout",
     "output_type": "stream",
     "text": [
      "jhjakhAkash\n"
     ]
    }
   ],
   "source": [
    "\n",
    "def my_function2():\n",
    "    global x\n",
    "    x = \"Akash\"\n",
    "my_function2()\n",
    "print(\"jhjakh\"+ x)"
   ]
  },
  {
   "cell_type": "markdown",
   "id": "a280e5d0",
   "metadata": {},
   "source": [
    "# List"
   ]
  },
  {
   "cell_type": "code",
   "execution_count": 52,
   "id": "506409b1",
   "metadata": {},
   "outputs": [],
   "source": [
    "l = [44,545,78,78,98,89]"
   ]
  },
  {
   "cell_type": "code",
   "execution_count": 76,
   "id": "b906af8d",
   "metadata": {},
   "outputs": [
    {
     "data": {
      "text/plain": [
       "[44, 156, 78, 78, 98, 89]"
      ]
     },
     "execution_count": 76,
     "metadata": {},
     "output_type": "execute_result"
    }
   ],
   "source": [
    "l"
   ]
  },
  {
   "cell_type": "code",
   "execution_count": 77,
   "id": "c9ac276d",
   "metadata": {},
   "outputs": [
    {
     "data": {
      "text/plain": [
       "list"
      ]
     },
     "execution_count": 77,
     "metadata": {},
     "output_type": "execute_result"
    }
   ],
   "source": [
    "type(l)"
   ]
  },
  {
   "cell_type": "code",
   "execution_count": 54,
   "id": "bae16179",
   "metadata": {},
   "outputs": [],
   "source": [
    "l[1] = 156 #1st element modified"
   ]
  },
  {
   "cell_type": "code",
   "execution_count": 56,
   "id": "c2934731",
   "metadata": {},
   "outputs": [
    {
     "data": {
      "text/plain": [
       "[44, 156, 78, 78, 98, 89]"
      ]
     },
     "execution_count": 56,
     "metadata": {},
     "output_type": "execute_result"
    }
   ],
   "source": [
    "l"
   ]
  },
  {
   "cell_type": "code",
   "execution_count": 57,
   "id": "7240d3dc",
   "metadata": {},
   "outputs": [],
   "source": [
    "l2 = [\"Banana\",\"Apple\",\"Grapes\"]"
   ]
  },
  {
   "cell_type": "code",
   "execution_count": 58,
   "id": "07816bde",
   "metadata": {},
   "outputs": [
    {
     "data": {
      "text/plain": [
       "['Banana', 'Apple', 'Grapes']"
      ]
     },
     "execution_count": 58,
     "metadata": {},
     "output_type": "execute_result"
    }
   ],
   "source": [
    "l2"
   ]
  },
  {
   "cell_type": "code",
   "execution_count": 59,
   "id": "6e84a0b0",
   "metadata": {},
   "outputs": [],
   "source": [
    "l3 = [\"Aaditya\",3.14,1254,2+3j,True] #missed data containing all data types i.e int,float,complex,boolean,string"
   ]
  },
  {
   "cell_type": "code",
   "execution_count": 60,
   "id": "82fd4aa6",
   "metadata": {},
   "outputs": [
    {
     "data": {
      "text/plain": [
       "['Aaditya', 3.14, 1254, (2+3j), True]"
      ]
     },
     "execution_count": 60,
     "metadata": {},
     "output_type": "execute_result"
    }
   ],
   "source": [
    "l3"
   ]
  },
  {
   "cell_type": "code",
   "execution_count": 87,
   "id": "00e10b92",
   "metadata": {},
   "outputs": [],
   "source": [
    "#this is my new list \"l4\"\n",
    "l4 = [12,[\"aaditya\",3.14],\"kamble\",2456,True,False]"
   ]
  },
  {
   "cell_type": "code",
   "execution_count": 82,
   "id": "475ae6e8",
   "metadata": {},
   "outputs": [
    {
     "data": {
      "text/plain": [
       "[12, ['aaditya', 3.14], 'kamble', 2456, True, False]"
      ]
     },
     "execution_count": 82,
     "metadata": {},
     "output_type": "execute_result"
    }
   ],
   "source": [
    "l4"
   ]
  },
  {
   "cell_type": "code",
   "execution_count": 85,
   "id": "571ac111",
   "metadata": {},
   "outputs": [
    {
     "data": {
      "text/plain": [
       "12"
      ]
     },
     "execution_count": 85,
     "metadata": {},
     "output_type": "execute_result"
    }
   ],
   "source": [
    "l4[0] #first index"
   ]
  },
  {
   "cell_type": "code",
   "execution_count": 70,
   "id": "da866318",
   "metadata": {},
   "outputs": [
    {
     "data": {
      "text/plain": [
       "3.14"
      ]
     },
     "execution_count": 70,
     "metadata": {},
     "output_type": "execute_result"
    }
   ],
   "source": [
    "l4[1][1] #slicing (1st index and in the 1st index taking 1st index value)"
   ]
  },
  {
   "cell_type": "code",
   "execution_count": 71,
   "id": "7da18e4d",
   "metadata": {},
   "outputs": [
    {
     "data": {
      "text/plain": [
       "'aaditya'"
      ]
     },
     "execution_count": 71,
     "metadata": {},
     "output_type": "execute_result"
    }
   ],
   "source": [
    "l4[1][0]"
   ]
  },
  {
   "cell_type": "code",
   "execution_count": 65,
   "id": "bd202cd4",
   "metadata": {},
   "outputs": [
    {
     "data": {
      "text/plain": [
       "[12, ['aaditya', 3.14], 'kamble', 2456, True, False]"
      ]
     },
     "execution_count": 65,
     "metadata": {},
     "output_type": "execute_result"
    }
   ],
   "source": [
    "l4[:] #taking all values in the list"
   ]
  },
  {
   "cell_type": "code",
   "execution_count": 68,
   "id": "3acaffc3",
   "metadata": {},
   "outputs": [
    {
     "data": {
      "text/plain": [
       "False"
      ]
     },
     "execution_count": 68,
     "metadata": {},
     "output_type": "execute_result"
    }
   ],
   "source": [
    "l4[-1]  #taking last value from the list"
   ]
  },
  {
   "cell_type": "code",
   "execution_count": 72,
   "id": "4b473ecc",
   "metadata": {},
   "outputs": [
    {
     "data": {
      "text/plain": [
       "[12, ['aaditya', 3.14], 'kamble', 2456, True]"
      ]
     },
     "execution_count": 72,
     "metadata": {},
     "output_type": "execute_result"
    }
   ],
   "source": [
    "l4[:-1] #taking all the values and excluding last value \"false\""
   ]
  },
  {
   "cell_type": "code",
   "execution_count": 73,
   "id": "8b5ece8e",
   "metadata": {},
   "outputs": [
    {
     "data": {
      "text/plain": [
       "[['aaditya', 3.14], 'kamble', 2456, True, False]"
      ]
     },
     "execution_count": 73,
     "metadata": {},
     "output_type": "execute_result"
    }
   ],
   "source": [
    "l4[1:] #taking all the values and excluding first vale \"12\""
   ]
  },
  {
   "cell_type": "code",
   "execution_count": 74,
   "id": "0e57d347",
   "metadata": {},
   "outputs": [
    {
     "data": {
      "text/plain": [
       "['kamble', 2456]"
      ]
     },
     "execution_count": 74,
     "metadata": {},
     "output_type": "execute_result"
    }
   ],
   "source": [
    "l4[2:4]"
   ]
  },
  {
   "cell_type": "code",
   "execution_count": 88,
   "id": "651a832b",
   "metadata": {},
   "outputs": [
    {
     "data": {
      "text/plain": [
       "[False, True, 2456, 'kamble', ['aaditya', 3.14], 12]"
      ]
     },
     "execution_count": 88,
     "metadata": {},
     "output_type": "execute_result"
    }
   ],
   "source": [
    "l4[::-1] #list revrese "
   ]
  },
  {
   "cell_type": "code",
   "execution_count": 89,
   "id": "ee41b856",
   "metadata": {},
   "outputs": [],
   "source": [
    "#two lists\n",
    "\n",
    "list1 = [\"aaditya\", \"kamble\",3.14,True]\n",
    "list2 = [\"xyz\",\"pqr\",1+2j]"
   ]
  },
  {
   "cell_type": "code",
   "execution_count": 90,
   "id": "286bb919",
   "metadata": {},
   "outputs": [
    {
     "data": {
      "text/plain": [
       "['aaditya', 'kamble', 3.14, True, 'xyz', 'pqr', (1+2j)]"
      ]
     },
     "execution_count": 90,
     "metadata": {},
     "output_type": "execute_result"
    }
   ],
   "source": [
    "list1+list2"
   ]
  },
  {
   "cell_type": "code",
   "execution_count": 92,
   "id": "5a794e27",
   "metadata": {},
   "outputs": [
    {
     "data": {
      "text/plain": [
       "['aaditya',\n",
       " 'kamble',\n",
       " 3.14,\n",
       " True,\n",
       " 'aaditya',\n",
       " 'kamble',\n",
       " 3.14,\n",
       " True,\n",
       " 'xyz',\n",
       " 'pqr',\n",
       " (1+2j)]"
      ]
     },
     "execution_count": 92,
     "metadata": {},
     "output_type": "execute_result"
    }
   ],
   "source": [
    "list1*2 + list2 "
   ]
  },
  {
   "cell_type": "code",
   "execution_count": 95,
   "id": "38cf1ec4",
   "metadata": {},
   "outputs": [
    {
     "data": {
      "text/plain": [
       "['aaditya', 'kamble', 3.14, True, 'Akash']"
      ]
     },
     "execution_count": 95,
     "metadata": {},
     "output_type": "execute_result"
    }
   ],
   "source": [
    "list1 + [\"Akash\"]"
   ]
  },
  {
   "cell_type": "code",
   "execution_count": 97,
   "id": "3d1d33c8",
   "metadata": {},
   "outputs": [
    {
     "data": {
      "text/plain": [
       "['aaditya', 'kamble', 3.14, True, 'xyz', 'pqr', (1+2j), 'Roshan']"
      ]
     },
     "execution_count": 97,
     "metadata": {},
     "output_type": "execute_result"
    }
   ],
   "source": [
    "list1+list2+[\"Roshan\"]"
   ]
  },
  {
   "cell_type": "code",
   "execution_count": 99,
   "id": "7435e8e0",
   "metadata": {},
   "outputs": [
    {
     "data": {
      "text/plain": [
       "['aaditya', 'kamble', 3.14, True]"
      ]
     },
     "execution_count": 99,
     "metadata": {},
     "output_type": "execute_result"
    }
   ],
   "source": [
    "list1"
   ]
  },
  {
   "cell_type": "code",
   "execution_count": 102,
   "id": "85fe1ee0",
   "metadata": {},
   "outputs": [],
   "source": [
    "list1[0] = \"abc\""
   ]
  },
  {
   "cell_type": "code",
   "execution_count": 114,
   "id": "a5dbdcbd",
   "metadata": {},
   "outputs": [
    {
     "data": {
      "text/plain": [
       "['university', 'kamble', 3.14, True]"
      ]
     },
     "execution_count": 114,
     "metadata": {},
     "output_type": "execute_result"
    }
   ],
   "source": [
    "list1"
   ]
  },
  {
   "cell_type": "code",
   "execution_count": 116,
   "id": "fc7d1cb6",
   "metadata": {},
   "outputs": [
    {
     "data": {
      "text/plain": [
       "4"
      ]
     },
     "execution_count": 116,
     "metadata": {},
     "output_type": "execute_result"
    }
   ],
   "source": [
    "len(list1) #checking length of the list "
   ]
  },
  {
   "cell_type": "code",
   "execution_count": 118,
   "id": "183d40fe",
   "metadata": {},
   "outputs": [
    {
     "data": {
      "text/plain": [
       "3"
      ]
     },
     "execution_count": 118,
     "metadata": {},
     "output_type": "execute_result"
    }
   ],
   "source": [
    "len(list2)"
   ]
  },
  {
   "cell_type": "code",
   "execution_count": 119,
   "id": "e27183a1",
   "metadata": {},
   "outputs": [],
   "source": [
    "l10 = [\"Aaditya\",\"University\",3.14,True,False,12456,\"Barty\"]"
   ]
  },
  {
   "cell_type": "code",
   "execution_count": 120,
   "id": "0e359664",
   "metadata": {},
   "outputs": [],
   "source": [
    "l10.append(\"Rathod_sir\") #add new value in the list in the end"
   ]
  },
  {
   "cell_type": "code",
   "execution_count": 122,
   "id": "550f7836",
   "metadata": {},
   "outputs": [
    {
     "data": {
      "text/plain": [
       "['Aaditya', 'University', 3.14, True, False, 12456, 'Barty', 'Rathod_sir']"
      ]
     },
     "execution_count": 122,
     "metadata": {},
     "output_type": "execute_result"
    }
   ],
   "source": [
    "l10"
   ]
  },
  {
   "cell_type": "code",
   "execution_count": 123,
   "id": "c693ae67",
   "metadata": {},
   "outputs": [
    {
     "data": {
      "text/plain": [
       "'Rathod_sir'"
      ]
     },
     "execution_count": 123,
     "metadata": {},
     "output_type": "execute_result"
    }
   ],
   "source": [
    "l10.pop() #remove last value in the list"
   ]
  },
  {
   "cell_type": "code",
   "execution_count": 124,
   "id": "ef62ad7d",
   "metadata": {},
   "outputs": [
    {
     "data": {
      "text/plain": [
       "3.14"
      ]
     },
     "execution_count": 124,
     "metadata": {},
     "output_type": "execute_result"
    }
   ],
   "source": [
    "l10.pop(2) #remove value in the list by using indexing"
   ]
  },
  {
   "cell_type": "code",
   "execution_count": 126,
   "id": "d79cdb21",
   "metadata": {},
   "outputs": [
    {
     "data": {
      "text/plain": [
       "['Aaditya', 'University', True, False, 12456, 'Barty']"
      ]
     },
     "execution_count": 126,
     "metadata": {},
     "output_type": "execute_result"
    }
   ],
   "source": [
    "l10 #check line number (122 , 123, 124)"
   ]
  },
  {
   "cell_type": "code",
   "execution_count": 127,
   "id": "594edb76",
   "metadata": {},
   "outputs": [],
   "source": [
    "l10.insert(3,[14,45,66,78])"
   ]
  },
  {
   "cell_type": "code",
   "execution_count": 128,
   "id": "3b17959d",
   "metadata": {},
   "outputs": [
    {
     "data": {
      "text/plain": [
       "['Aaditya', 'University', True, [14, 45, 66, 78], False, 12456, 'Barty']"
      ]
     },
     "execution_count": 128,
     "metadata": {},
     "output_type": "execute_result"
    }
   ],
   "source": [
    "l10"
   ]
  },
  {
   "cell_type": "code",
   "execution_count": 80,
   "id": "7538e90b",
   "metadata": {},
   "outputs": [
    {
     "name": "stdout",
     "output_type": "stream",
     "text": [
      "Enter values4\n",
      "enter 4 Element\n",
      "12\n",
      "365\n",
      "125\n",
      "245\n",
      "List elements are : [12, 365, 125, 245]\n"
     ]
    }
   ],
   "source": [
    "def read_list():\n",
    "    l1 = []\n",
    "    n = int(input(\"Enter values\"))\n",
    "    print(\"enter\",n,\"Element\")\n",
    "    for i in range(0,n):\n",
    "        element = int(input())\n",
    "        l1.append(element)\n",
    "    print(\"List elements are :\", l1)\n",
    "read_list()"
   ]
  }
 ],
 "metadata": {
  "kernelspec": {
   "display_name": "Python 3 (ipykernel)",
   "language": "python",
   "name": "python3"
  },
  "language_info": {
   "codemirror_mode": {
    "name": "ipython",
    "version": 3
   },
   "file_extension": ".py",
   "mimetype": "text/x-python",
   "name": "python",
   "nbconvert_exporter": "python",
   "pygments_lexer": "ipython3",
   "version": "3.9.7"
  }
 },
 "nbformat": 4,
 "nbformat_minor": 5
}
